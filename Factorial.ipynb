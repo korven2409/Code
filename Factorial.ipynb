{
 "cells": [
  {
   "cell_type": "code",
   "execution_count": 10,
   "metadata": {},
   "outputs": [
    {
     "name": "stdout",
     "output_type": "stream",
     "text": [
      "enter a number:5\n",
      "factorial of the given number is: 120\n"
     ]
    }
   ],
   "source": [
    "#factorial\n",
    "num=int(input(\"enter a number:\"))\n",
    "fact=1\n",
    "while(num!=0):\n",
    "    fact=fact*num;\n",
    "    num=num-1;\n",
    "print(\"factorial of the given number is:\",fact)"
   ]
  }
 ],
 "metadata": {
  "kernelspec": {
   "display_name": "Python 3",
   "language": "python",
   "name": "python3"
  },
  "language_info": {
   "codemirror_mode": {
    "name": "ipython",
    "version": 3
   },
   "file_extension": ".py",
   "mimetype": "text/x-python",
   "name": "python",
   "nbconvert_exporter": "python",
   "pygments_lexer": "ipython3",
   "version": "3.8.5"
  }
 },
 "nbformat": 4,
 "nbformat_minor": 4
}
