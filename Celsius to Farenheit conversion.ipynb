{
 "cells": [
  {
   "cell_type": "code",
   "execution_count": 3,
   "metadata": {},
   "outputs": [
    {
     "name": "stdout",
     "output_type": "stream",
     "text": [
      "enter Celsius:99.6\n",
      "entered Celsius into Farenheit is : 211.28\n"
     ]
    }
   ],
   "source": [
    "# F=(9/5)*C+32\n",
    "#C=5/9*(F-32)\n",
    "C=float(input(\"enter Celsius:\"))\n",
    "F=(9/5)*C+32\n",
    "print(\"entered Celsius into Farenheit is :\",round(F,2))"
   ]
  }
 ],
 "metadata": {
  "kernelspec": {
   "display_name": "Python 3",
   "language": "python",
   "name": "python3"
  },
  "language_info": {
   "codemirror_mode": {
    "name": "ipython",
    "version": 3
   },
   "file_extension": ".py",
   "mimetype": "text/x-python",
   "name": "python",
   "nbconvert_exporter": "python",
   "pygments_lexer": "ipython3",
   "version": "3.8.5"
  }
 },
 "nbformat": 4,
 "nbformat_minor": 4
}
