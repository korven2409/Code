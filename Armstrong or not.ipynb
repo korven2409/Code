{
 "cells": [
  {
   "cell_type": "code",
   "execution_count": 11,
   "metadata": {},
   "outputs": [
    {
     "name": "stdout",
     "output_type": "stream",
     "text": [
      "enter a number:153\n",
      "given number is a armstrong number\n"
     ]
    }
   ],
   "source": [
    "#armstrong or not\n",
    "number2=int(input('enter a number:'))\n",
    "temp3=number2\n",
    "temp4=number2\n",
    "count=0\n",
    "while temp3!=0:\n",
    "    temp3=temp3//10\n",
    "    count+=1\n",
    "\n",
    "sum1=0\n",
    "prod=1\n",
    "j=count\n",
    "while temp4!=0:\n",
    "    res=temp4%10\n",
    "    while j!=0:\n",
    "        prod=res*prod\n",
    "        j-=1\n",
    "       \n",
    "    j=count\n",
    "    temp4=temp4//10\n",
    "    sum1=sum1+prod\n",
    "    prod=1\n",
    "if sum1==number2:\n",
    "    print('given number is a armstrong number')\n",
    "else:\n",
    "    print('entered number is not a armstrong number')"
   ]
  }
 ],
 "metadata": {
  "kernelspec": {
   "display_name": "Python 3",
   "language": "python",
   "name": "python3"
  },
  "language_info": {
   "codemirror_mode": {
    "name": "ipython",
    "version": 3
   },
   "file_extension": ".py",
   "mimetype": "text/x-python",
   "name": "python",
   "nbconvert_exporter": "python",
   "pygments_lexer": "ipython3",
   "version": "3.8.5"
  }
 },
 "nbformat": 4,
 "nbformat_minor": 4
}
