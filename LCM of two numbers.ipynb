{
 "cells": [
  {
   "cell_type": "code",
   "execution_count": 21,
   "metadata": {},
   "outputs": [
    {
     "name": "stdout",
     "output_type": "stream",
     "text": [
      "enter 1st number:4\n",
      "enter 2nd number:6\n",
      "LCM of 4 and 6 is 12\n"
     ]
    }
   ],
   "source": [
    "num1=int(input(\"enter 1st number:\"))\n",
    "num2=int(input(\"enter 2nd number:\"))\n",
    "flag=0\n",
    "for i in range(1,num1*num2):\n",
    "    if i%num1==0 and i%num2==0:\n",
    "        lcm=i\n",
    "        flag=1\n",
    "if flag==1:\n",
    "    print(f\"LCM of {num1} and {num2} is {lcm}\")\n",
    "elif flag==0:\n",
    "    print(f\"LCM of {num1} and {num2} is {num1*num2}\")"
   ]
  },
  {
   "cell_type": "code",
   "execution_count": null,
   "metadata": {},
   "outputs": [],
   "source": []
  }
 ],
 "metadata": {
  "kernelspec": {
   "display_name": "Python 3",
   "language": "python",
   "name": "python3"
  },
  "language_info": {
   "codemirror_mode": {
    "name": "ipython",
    "version": 3
   },
   "file_extension": ".py",
   "mimetype": "text/x-python",
   "name": "python",
   "nbconvert_exporter": "python",
   "pygments_lexer": "ipython3",
   "version": "3.8.5"
  }
 },
 "nbformat": 4,
 "nbformat_minor": 4
}
