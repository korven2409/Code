{
 "cells": [
  {
   "cell_type": "code",
   "execution_count": 13,
   "metadata": {},
   "outputs": [
    {
     "name": "stdout",
     "output_type": "stream",
     "text": [
      "enter a string:iTopiNonAvevanoNipoti\n",
      "entered string is a palindrome\n"
     ]
    }
   ],
   "source": [
    "string1=input(\"enter a string:\")\n",
    "#string1.lower()\n",
    "string3=string1.lower()\n",
    "string2=\"\"\n",
    "for i in range(len(string3)-1,-1,-1):\n",
    "    string2+=string3[i]\n",
    "#print(string2)\n",
    "if string3==string2:\n",
    "    print(\"entered string is a palindrome\")"
   ]
  }
 ],
 "metadata": {
  "kernelspec": {
   "display_name": "Python 3",
   "language": "python",
   "name": "python3"
  },
  "language_info": {
   "codemirror_mode": {
    "name": "ipython",
    "version": 3
   },
   "file_extension": ".py",
   "mimetype": "text/x-python",
   "name": "python",
   "nbconvert_exporter": "python",
   "pygments_lexer": "ipython3",
   "version": "3.8.5"
  }
 },
 "nbformat": 4,
 "nbformat_minor": 4
}
