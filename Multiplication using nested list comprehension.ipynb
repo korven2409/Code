{
 "cells": [
  {
   "cell_type": "code",
   "execution_count": 1,
   "metadata": {},
   "outputs": [
    {
     "name": "stdout",
     "output_type": "stream",
     "text": [
      "[[35, 25, 24], [83, 61, 69], [131, 97, 114]]\n"
     ]
    }
   ],
   "source": [
    "matrix1=[[1,2,3],[4,5,6],[7,8,9]]\n",
    "matrix2=[[6,3,7],[1,5,7],[9,4,1]]\n",
    "matrix3=[]\n",
    "k=0\n",
    "x=0\n",
    "for i in range(3):\n",
    "    matrix3.append([])\n",
    "#     k=0\n",
    "    for j in range(3):\n",
    "        for m in range(3):\n",
    "            x+=matrix1[i][m]*matrix2[m][j]\n",
    "        matrix3[i].append(x)\n",
    "        k+=1\n",
    "        x=0\n",
    "print(matrix3)"
   ]
  },
  {
   "cell_type": "code",
   "execution_count": null,
   "metadata": {},
   "outputs": [],
   "source": []
  }
 ],
 "metadata": {
  "kernelspec": {
   "display_name": "Python 3",
   "language": "python",
   "name": "python3"
  },
  "language_info": {
   "codemirror_mode": {
    "name": "ipython",
    "version": 3
   },
   "file_extension": ".py",
   "mimetype": "text/x-python",
   "name": "python",
   "nbconvert_exporter": "python",
   "pygments_lexer": "ipython3",
   "version": "3.8.5"
  }
 },
 "nbformat": 4,
 "nbformat_minor": 4
}
