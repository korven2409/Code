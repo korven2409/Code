{
 "cells": [
  {
   "cell_type": "code",
   "execution_count": 8,
   "metadata": {},
   "outputs": [
    {
     "name": "stdout",
     "output_type": "stream",
     "text": [
      "enter a number:4\n",
      "4 is not a prime!\n"
     ]
    }
   ],
   "source": [
    "#prime or not\n",
    "num=int(input(\"enter a number:\"))\n",
    "count=0\n",
    "for i in range(1,round(num/2)+1):\n",
    "    if num%i==0:\n",
    "        count+=1\n",
    "if count>1:\n",
    "    print(f\"{num} is not a prime!\")\n",
    "elif count==1:\n",
    "    print(f\"{num} is a prime!\")\n"
   ]
  }
 ],
 "metadata": {
  "kernelspec": {
   "display_name": "Python 3",
   "language": "python",
   "name": "python3"
  },
  "language_info": {
   "codemirror_mode": {
    "name": "ipython",
    "version": 3
   },
   "file_extension": ".py",
   "mimetype": "text/x-python",
   "name": "python",
   "nbconvert_exporter": "python",
   "pygments_lexer": "ipython3",
   "version": "3.8.5"
  }
 },
 "nbformat": 4,
 "nbformat_minor": 4
}
