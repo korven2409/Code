{
 "cells": [
  {
   "cell_type": "code",
   "execution_count": 1,
   "metadata": {},
   "outputs": [
    {
     "name": "stdout",
     "output_type": "stream",
     "text": [
      "1500.0 0.03\n"
     ]
    }
   ],
   "source": [
    "k=1.5e3\n",
    "l=3e-2\n",
    "print(k,l)"
   ]
  },
  {
   "cell_type": "code",
   "execution_count": 3,
   "metadata": {},
   "outputs": [
    {
     "name": "stdout",
     "output_type": "stream",
     "text": [
      "the tuple is as follows: (2, 3, 4, 5)\n",
      "first element of the tupule is : 2\n"
     ]
    }
   ],
   "source": [
    "#tuple-immutable\n",
    "tupule=(2,3,4,5)\n",
    "print(\"the tuple is as follows:\",tupule)\n",
    "print(\"first element of the tupule is :\",tupule[0])"
   ]
  },
  {
   "cell_type": "code",
   "execution_count": 4,
   "metadata": {},
   "outputs": [
    {
     "name": "stdout",
     "output_type": "stream",
     "text": [
      "the list is as follows: [2, 3, 4, 5]\n",
      "first element of the list: 2\n",
      "appended list as follows: [2, 3, 4, 5, 12]\n",
      "updated list as follows: [45, 3, 4, 5, 12]\n"
     ]
    }
   ],
   "source": [
    "#list\n",
    "list1=[2,3,4,5]\n",
    "print(\"the list is as follows:\",list1)\n",
    "print(\"first element of the list:\",list1[0])\n",
    "list1.append(12)\n",
    "print(\"appended list as follows:\",list1)\n",
    "list1[0]=45\n",
    "print(\"updated list as follows:\",list1)"
   ]
  },
  {
   "cell_type": "code",
   "execution_count": 11,
   "metadata": {},
   "outputs": [
    {
     "name": "stdout",
     "output_type": "stream",
     "text": [
      "text as follows: ABCDEF\n",
      "first character of the text as follows: A\n",
      "length of the string: 6\n"
     ]
    }
   ],
   "source": [
    "#string\n",
    "text=\"ABCDEF\"\n",
    "print(\"text as follows:\",text)\n",
    "print(\"first character of the text as follows:\",text[0])\n",
    "print(\"length of the string:\",len(text))"
   ]
  },
  {
   "cell_type": "code",
   "execution_count": 15,
   "metadata": {},
   "outputs": [
    {
     "name": "stdout",
     "output_type": "stream",
     "text": [
      "A set only gives unique values: {1, 2, 3, 4, 5, 6, 7}\n"
     ]
    }
   ],
   "source": [
    "#set\n",
    "#Note that in set you have to mention the keyword \"set\" infront the set values\n",
    "set1=set([1,1,2,3,3,4,4,4,5,6,6,7,7,7])\n",
    "print(\"A set only gives unique values:\",set1)"
   ]
  },
  {
   "cell_type": "code",
   "execution_count": 16,
   "metadata": {},
   "outputs": [
    {
     "name": "stdout",
     "output_type": "stream",
     "text": [
      "The dictionary is as follows: {'A': 'Apple', 'B': 'Banana', 'C': 'Carrot', 'D': 'Doll'}\n",
      "The 1st value using key: Apple\n"
     ]
    }
   ],
   "source": [
    "#Dictionary\n",
    "example_dictionary={\n",
    "            \"A\":\"Apple\",\n",
    "            \"B\":\"Banana\",\n",
    "            \"C\":\"Carrot\",\n",
    "            \"D\":\"Doll\"\n",
    "}\n",
    "print(\"The dictionary is as follows:\",example_dictionary)\n",
    "print(\"The 1st value using key:\",example_dictionary[\"A\"])"
   ]
  },
  {
   "cell_type": "code",
   "execution_count": 38,
   "metadata": {},
   "outputs": [
    {
     "name": "stdout",
     "output_type": "stream",
     "text": [
      "{'need', 'And', 'will', 'a', 'peace', 'or', 'Above', 'Nothing', \"you'll\", 'no', 'live', 'be', 'do', 'only', 'Living', 'hard', 'life', 'Heaven', 'I', 'you', 'dreamer', 'sky', 'No', 'one', 'hope', \"there's\", 'if', 'Sharing', 'It', 'You', 'Yoo', 'try', 'the', 'someday', 'for', 'world', 'hoo', 'A', 'hunger', 'Hell', 'religion', \"I'm\", 'greed', 'wonder', 'as', 'today', 'too', 'kill', 'easy', 'us', \"It's\", 'possessions', 'can', 'below', 'brotherhood', 'of', 'in', 'Imagine', 'people', \"isn't\", 'may', 'not', 'Aaa', 'to', 'all', 'haa', 'join', 'But', 'man', 'say', 'countries', 'die'}\n",
      "72\n"
     ]
    }
   ],
   "source": [
    "lyrics = \"\"\"\n",
    "Imagine there's no Heaven\n",
    "It's easy if you try\n",
    "No Hell below us\n",
    "Above us only sky\n",
    "\n",
    "Imagine all the people\n",
    "Living for today\n",
    "Aaa haa\n",
    "\n",
    "Imagine there's no countries\n",
    "It isn't hard to do\n",
    "Nothing to kill or die for\n",
    "And no religion too\n",
    "\n",
    "Imagine all the people\n",
    "Living life in peace\n",
    "Yoo hoo\n",
    "\n",
    "You may say I'm a dreamer\n",
    "But I'm not the only one\n",
    "I hope someday you'll join us\n",
    "And the world will be as one\n",
    "\n",
    "Imagine no possessions\n",
    "I wonder if you can\n",
    "No need for greed or hunger\n",
    "A brotherhood of man\n",
    "\n",
    "Imagine all the people\n",
    "Sharing all the world\n",
    "Yoo hoo\n",
    "\n",
    "You may say I'm a dreamer\n",
    "But I'm not the only one\n",
    "I hope someday you'll join us\n",
    "And the world will live as one\n",
    "\"\"\"\n",
    "\n",
    "text=lyrics.split()\n",
    "text2=set(text)\n",
    "print(text2)\n",
    "print(len(text2))"
   ]
  },
  {
   "cell_type": "code",
   "execution_count": 6,
   "metadata": {},
   "outputs": [
    {
     "name": "stdout",
     "output_type": "stream",
     "text": [
      "enter length:4\n",
      "enter breadth:4\n",
      "shape is a square\n"
     ]
    }
   ],
   "source": [
    "length=int(input(\"enter length:\"))\n",
    "breadth=int(input(\"enter breadth:\"))\n",
    "if length==breadth:\n",
    "    print(\"shape is a square\")\n",
    "else:\n",
    "    print(\"shape is a rectangle\")"
   ]
  },
  {
   "cell_type": "code",
   "execution_count": 12,
   "metadata": {},
   "outputs": [
    {
     "name": "stdout",
     "output_type": "stream",
     "text": [
      "a:4\n",
      "b:5\n",
      "5\n"
     ]
    }
   ],
   "source": [
    "a=int(input(\"a:\"))\n",
    "b=int(input(\"b:\"))\n",
    "print(a) if a>b else print(b) if b>a else print(\"both are equal\")"
   ]
  },
  {
   "cell_type": "code",
   "execution_count": null,
   "metadata": {},
   "outputs": [],
   "source": []
  },
  {
   "cell_type": "code",
   "execution_count": null,
   "metadata": {},
   "outputs": [],
   "source": []
  },
  {
   "cell_type": "code",
   "execution_count": null,
   "metadata": {},
   "outputs": [],
   "source": []
  },
  {
   "cell_type": "code",
   "execution_count": null,
   "metadata": {},
   "outputs": [],
   "source": []
  },
  {
   "cell_type": "code",
   "execution_count": 25,
   "metadata": {},
   "outputs": [
    {
     "name": "stdout",
     "output_type": "stream",
     "text": [
      "enter a number:5\n",
      "120\n"
     ]
    }
   ],
   "source": [
    "num=int(input(\"enter a number:\"))\n",
    "fact=1\n",
    "while(num!=0):\n",
    "    fact*=num\n",
    "    num=num-1\n",
    "print(fact)"
   ]
  },
  {
   "cell_type": "code",
   "execution_count": 27,
   "metadata": {},
   "outputs": [
    {
     "name": "stdout",
     "output_type": "stream",
     "text": [
      "enter a number:20\n",
      "210\n"
     ]
    }
   ],
   "source": [
    "num2=int(input(\"enter a number:\"))\n",
    "sum=0\n",
    "for i in range(1,num2+1):\n",
    "    sum=sum+i\n",
    "print(sum)"
   ]
  },
  {
   "cell_type": "code",
   "execution_count": 29,
   "metadata": {},
   "outputs": [
    {
     "name": "stdout",
     "output_type": "stream",
     "text": [
      "enter a number:20\n",
      "210\n"
     ]
    }
   ],
   "source": [
    "num2=int(input(\"enter a number:\"))\n",
    "sum=0\n",
    "i=1\n",
    "while(i<=num2):\n",
    "    sum+=i\n",
    "    i+=1\n",
    "print(sum)"
   ]
  },
  {
   "cell_type": "code",
   "execution_count": null,
   "metadata": {},
   "outputs": [],
   "source": []
  }
 ],
 "metadata": {
  "kernelspec": {
   "display_name": "Python 3",
   "language": "python",
   "name": "python3"
  },
  "language_info": {
   "codemirror_mode": {
    "name": "ipython",
    "version": 3
   },
   "file_extension": ".py",
   "mimetype": "text/x-python",
   "name": "python",
   "nbconvert_exporter": "python",
   "pygments_lexer": "ipython3",
   "version": "3.8.5"
  }
 },
 "nbformat": 4,
 "nbformat_minor": 4
}
