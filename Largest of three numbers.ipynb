{
 "cells": [
  {
   "cell_type": "code",
   "execution_count": 7,
   "metadata": {},
   "outputs": [
    {
     "name": "stdout",
     "output_type": "stream",
     "text": [
      "enter number:4\n",
      "enter number:5\n",
      "enter number:-1\n",
      "b(5) is the largest\n"
     ]
    }
   ],
   "source": [
    "#greatest of three numbers\n",
    "a=int(input(\"enter number:\"))\n",
    "b=int(input(\"enter number:\"))\n",
    "c=int(input(\"enter number:\"))\n",
    "if a>b and a>c:\n",
    "    print(f\"a({a}) is the largest\")\n",
    "elif b>a and b>c:\n",
    "    print(f\"b({b}) is the largest\")\n",
    "else:\n",
    "    print(f\"c({c}) is the largest\")"
   ]
  }
 ],
 "metadata": {
  "kernelspec": {
   "display_name": "Python 3",
   "language": "python",
   "name": "python3"
  },
  "language_info": {
   "codemirror_mode": {
    "name": "ipython",
    "version": 3
   },
   "file_extension": ".py",
   "mimetype": "text/x-python",
   "name": "python",
   "nbconvert_exporter": "python",
   "pygments_lexer": "ipython3",
   "version": "3.8.5"
  }
 },
 "nbformat": 4,
 "nbformat_minor": 4
}
