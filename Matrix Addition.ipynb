{
 "cells": [
  {
   "cell_type": "code",
   "execution_count": 16,
   "metadata": {},
   "outputs": [
    {
     "name": "stdout",
     "output_type": "stream",
     "text": [
      "[[7, 5, 10], [5, 10, 13], [16, 12, 10]]\n"
     ]
    }
   ],
   "source": [
    "matrix1=[[1,2,3],[4,5,6],[7,8,9]]\n",
    "matrix2=[[6,3,7],[1,5,7],[9,4,1]]\n",
    "matrix3=[]\n",
    "lst1=[]\n",
    "for i in range(3):\n",
    "    for j in range(3):\n",
    "        lst1.append(matrix1[i][j]+matrix2[i][j])\n",
    "    matrix3.append(lst1)\n",
    "    lst1=[]\n",
    "print(matrix3)"
   ]
  }
 ],
 "metadata": {
  "kernelspec": {
   "display_name": "Python 3",
   "language": "python",
   "name": "python3"
  },
  "language_info": {
   "codemirror_mode": {
    "name": "ipython",
    "version": 3
   },
   "file_extension": ".py",
   "mimetype": "text/x-python",
   "name": "python",
   "nbconvert_exporter": "python",
   "pygments_lexer": "ipython3",
   "version": "3.8.5"
  }
 },
 "nbformat": 4,
 "nbformat_minor": 4
}
