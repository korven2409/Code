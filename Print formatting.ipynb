{
 "cells": [
  {
   "cell_type": "markdown",
   "id": "51964fc2",
   "metadata": {},
   "source": [
    "# Formatting with placeholder\n"
   ]
  },
  {
   "cell_type": "code",
   "execution_count": 1,
   "id": "8752ab49",
   "metadata": {},
   "outputs": [
    {
     "name": "stdout",
     "output_type": "stream",
     "text": [
      "I am going to inject something over here\n"
     ]
    }
   ],
   "source": [
    "#using %s placeholder\n",
    "print(\"I am going to inject %s over here\" %'something')"
   ]
  },
  {
   "cell_type": "code",
   "execution_count": 3,
   "id": "3341d586",
   "metadata": {},
   "outputs": [
    {
     "name": "stdout",
     "output_type": "stream",
     "text": [
      "I am going to inject something over here and more in here\n"
     ]
    }
   ],
   "source": [
    "#using tuple to inject multiple items\n",
    "print(\"I am going to inject %s over here and %s in here\" %('something','more'))"
   ]
  },
  {
   "cell_type": "code",
   "execution_count": 4,
   "id": "dd79bcaa",
   "metadata": {},
   "outputs": [
    {
     "name": "stdout",
     "output_type": "stream",
     "text": [
      "I am going to inject something over here and more in here\n"
     ]
    }
   ],
   "source": [
    "#using variables to inject items\n",
    "x='something'\n",
    "y='more'\n",
    "print(\"I am going to inject %s over here and %s in here\" %(x,y))"
   ]
  },
  {
   "cell_type": "code",
   "execution_count": 5,
   "id": "e1f50538",
   "metadata": {},
   "outputs": [
    {
     "name": "stdout",
     "output_type": "stream",
     "text": [
      "I am going to inject 'something' over here\n"
     ]
    }
   ],
   "source": [
    "#using %r as string formatting operator\n",
    "print(\"I am going to inject %r over here\" %'something')"
   ]
  },
  {
   "cell_type": "code",
   "execution_count": 6,
   "id": "819c1169",
   "metadata": {},
   "outputs": [
    {
     "name": "stdout",
     "output_type": "stream",
     "text": [
      "I caught a big fish which is this \tbig\n",
      "I caught a bigh fish which is 'this \\tbig'\n"
     ]
    }
   ],
   "source": [
    "#using tab to explain difference between %s and %r\n",
    "print(\"I caught a big fish which is %s\" %'this \\tbig')\n",
    "print(\"I caught a bigh fish which is %r\" %'this \\tbig')"
   ]
  },
  {
   "cell_type": "markdown",
   "id": "70b585aa",
   "metadata": {},
   "source": [
    "%s converts any item into string including integer and float"
   ]
  },
  {
   "cell_type": "code",
   "execution_count": 7,
   "id": "0be88145",
   "metadata": {},
   "outputs": [
    {
     "name": "stdout",
     "output_type": "stream",
     "text": [
      "I wrote 3.75 programs today\n"
     ]
    }
   ],
   "source": [
    "print(\"I wrote %s programs today\" %3.75)"
   ]
  },
  {
   "cell_type": "markdown",
   "id": "f3cf20de",
   "metadata": {},
   "source": [
    "%d converts numbers to integers without rounding up"
   ]
  },
  {
   "cell_type": "code",
   "execution_count": 8,
   "id": "672dd142",
   "metadata": {},
   "outputs": [
    {
     "name": "stdout",
     "output_type": "stream",
     "text": [
      "I wrote 3 programs today\n"
     ]
    }
   ],
   "source": [
    "print(\"I wrote %d programs today\" %3.75)"
   ]
  },
  {
   "cell_type": "markdown",
   "id": "00766034",
   "metadata": {},
   "source": [
    "\n",
    "# Padding and formatting for floating point numbers"
   ]
  },
  {
   "cell_type": "code",
   "execution_count": 10,
   "id": "aa571c18",
   "metadata": {},
   "outputs": [
    {
     "name": "stdout",
     "output_type": "stream",
     "text": [
      "float number 13.414400\n"
     ]
    }
   ],
   "source": [
    "print(\"float number %1f\" %(13.4144))"
   ]
  },
  {
   "cell_type": "code",
   "execution_count": 11,
   "id": "f44daae0",
   "metadata": {},
   "outputs": [
    {
     "name": "stdout",
     "output_type": "stream",
     "text": [
      "float number 13.41\n"
     ]
    }
   ],
   "source": [
    "print(\"float number %5.2f\" %(13.4144))"
   ]
  },
  {
   "cell_type": "code",
   "execution_count": 12,
   "id": "5fd7cc29",
   "metadata": {},
   "outputs": [
    {
     "name": "stdout",
     "output_type": "stream",
     "text": [
      "float number      13.41\n"
     ]
    }
   ],
   "source": [
    "print(\"float number %10.2f\" %(13.4144))"
   ]
  },
  {
   "cell_type": "markdown",
   "id": "6a6bf763",
   "metadata": {},
   "source": [
    "since there aren't 10 digits in the above number so it will white spaces"
   ]
  },
  {
   "cell_type": "code",
   "execution_count": 13,
   "id": "cbbeacb6",
   "metadata": {},
   "outputs": [
    {
     "name": "stdout",
     "output_type": "stream",
     "text": [
      "float number 13\n"
     ]
    }
   ],
   "source": [
    "print(\"float number %1.0f\" %(13.4144))"
   ]
  },
  {
   "cell_type": "markdown",
   "id": "a852f355",
   "metadata": {},
   "source": [
    "# Multi formatting is not prohibited"
   ]
  },
  {
   "cell_type": "code",
   "execution_count": 14,
   "id": "44d491be",
   "metadata": {},
   "outputs": [
    {
     "name": "stdout",
     "output_type": "stream",
     "text": [
      "First: Hi, Second: 13.41 , Third: 'bye!'\n"
     ]
    }
   ],
   "source": [
    "print(\"First: %s, Second: %1.2f , Third: %r\" %('Hi',13.41144,'bye!'))"
   ]
  },
  {
   "cell_type": "markdown",
   "id": "bed04ab3",
   "metadata": {},
   "source": [
    "#### 1. Inserted objects can be called by index position:"
   ]
  },
  {
   "cell_type": "code",
   "execution_count": 15,
   "id": "bc8a59b9",
   "metadata": {},
   "outputs": [
    {
     "name": "stdout",
     "output_type": "stream",
     "text": [
      "The quick brown fox\n"
     ]
    }
   ],
   "source": [
    "print('The {2} {1} {0}'.format('fox','brown','quick'))"
   ]
  },
  {
   "cell_type": "markdown",
   "id": "0ef5de3c",
   "metadata": {},
   "source": [
    "#### 2. Inserted objects can be assigned keywords:"
   ]
  },
  {
   "cell_type": "code",
   "execution_count": 16,
   "id": "6f854b9b",
   "metadata": {},
   "outputs": [
    {
     "name": "stdout",
     "output_type": "stream",
     "text": [
      "First Object: 1, Second Object: Two, Third Object: 12.3\n"
     ]
    }
   ],
   "source": [
    "print('First Object: {a}, Second Object: {b}, Third Object: {c}'.format(a=1,b='Two',c=12.3))"
   ]
  },
  {
   "cell_type": "markdown",
   "id": "9b1db0dc",
   "metadata": {},
   "source": [
    "#### 3. Inserted objects can be reused, avoiding duplication:"
   ]
  },
  {
   "cell_type": "code",
   "execution_count": 17,
   "id": "f6c974e3",
   "metadata": {},
   "outputs": [
    {
     "name": "stdout",
     "output_type": "stream",
     "text": [
      "A penny saved is a penny earned.\n",
      "A penny saved is a penny earned.\n"
     ]
    }
   ],
   "source": [
    "print('A %s saved is a %s earned.' %('penny','penny'))\n",
    "# vs.\n",
    "print('A {p} saved is a {p} earned.'.format(p='penny'))"
   ]
  },
  {
   "cell_type": "markdown",
   "id": "04f06ac8",
   "metadata": {},
   "source": [
    "# Alignment, padding and precision with `.format()`\n",
    "Within the curly braces you can assign field lengths, left/right alignments, rounding parameters and more"
   ]
  },
  {
   "cell_type": "code",
   "execution_count": 18,
   "id": "b936c17f",
   "metadata": {},
   "outputs": [
    {
     "name": "stdout",
     "output_type": "stream",
     "text": [
      "Fruit    | Quantity \n",
      "Apples   |       3.0\n",
      "Oranges  |        10\n"
     ]
    }
   ],
   "source": [
    "print('{0:8} | {1:9}'.format('Fruit', 'Quantity'))\n",
    "print('{0:8} | {1:9}'.format('Apples', 3.))\n",
    "print('{0:8} | {1:9}'.format('Oranges', 10))"
   ]
  },
  {
   "cell_type": "code",
   "execution_count": 19,
   "id": "cb15ab98",
   "metadata": {},
   "outputs": [
    {
     "name": "stdout",
     "output_type": "stream",
     "text": [
      "Left     |  Center  |    Right\n",
      "11       |    22    |       33\n"
     ]
    }
   ],
   "source": [
    "print('{0:<8} | {1:^8} | {2:>8}'.format('Left','Center','Right'))\n",
    "print('{0:<8} | {1:^8} | {2:>8}'.format(11,22,33))"
   ]
  },
  {
   "cell_type": "code",
   "execution_count": 20,
   "id": "f836c0f6",
   "metadata": {},
   "outputs": [
    {
     "name": "stdout",
     "output_type": "stream",
     "text": [
      "Left==== | -Center- | ...Right\n",
      "11====== | ---22--- | ......33\n"
     ]
    }
   ],
   "source": [
    "print('{0:=<8} | {1:-^8} | {2:.>8}'.format('Left','Center','Right'))\n",
    "print('{0:=<8} | {1:-^8} | {2:.>8}'.format(11,22,33))"
   ]
  },
  {
   "cell_type": "code",
   "execution_count": 21,
   "id": "e9f11d48",
   "metadata": {},
   "outputs": [
    {
     "name": "stdout",
     "output_type": "stream",
     "text": [
      "This is my ten-character, two-decimal number:     13.58\n",
      "This is my ten-character, two-decimal number:     13.58\n"
     ]
    }
   ],
   "source": [
    "print('This is my ten-character, two-decimal number:%10.2f' %13.579)\n",
    "print('This is my ten-character, two-decimal number:{0:10.2f}'.format(13.579))"
   ]
  },
  {
   "cell_type": "code",
   "execution_count": null,
   "id": "6131b0c3",
   "metadata": {},
   "outputs": [],
   "source": []
  }
 ],
 "metadata": {
  "kernelspec": {
   "display_name": "Python 3",
   "language": "python",
   "name": "python3"
  },
  "language_info": {
   "codemirror_mode": {
    "name": "ipython",
    "version": 3
   },
   "file_extension": ".py",
   "mimetype": "text/x-python",
   "name": "python",
   "nbconvert_exporter": "python",
   "pygments_lexer": "ipython3",
   "version": "3.8.8"
  }
 },
 "nbformat": 4,
 "nbformat_minor": 5
}
