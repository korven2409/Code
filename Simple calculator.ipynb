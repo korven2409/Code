{
 "cells": [
  {
   "cell_type": "code",
   "execution_count": 84,
   "metadata": {},
   "outputs": [
    {
     "name": "stdout",
     "output_type": "stream",
     "text": [
      "enter a number:10\n",
      "enter a number:2\n",
      "enter a operator (+,-,*,/):/\n",
      "10 / 2 = 5\n"
     ]
    }
   ],
   "source": [
    "def calculator(a,b,operation):\n",
    "    if operation=='+':\n",
    "        return a+b\n",
    "    elif operation=='-':\n",
    "        return a-b\n",
    "    elif operation=='*':\n",
    "        return a*b\n",
    "    elif operation=='/':\n",
    "        return int(a/b)\n",
    "    else:\n",
    "        print(\"invalid operator!!\")\n",
    "num1=int(input(\"enter a number:\"))\n",
    "num2=int(input(\"enter a number:\"))\n",
    "operation=input(\"enter a operator (+,-,*,/):\")\n",
    "result=calculator(num1,num2,operation)\n",
    "print(f\"{num1} {operation} {num2} = {result}\")"
   ]
  }
 ],
 "metadata": {
  "kernelspec": {
   "display_name": "Python 3",
   "language": "python",
   "name": "python3"
  },
  "language_info": {
   "codemirror_mode": {
    "name": "ipython",
    "version": 3
   },
   "file_extension": ".py",
   "mimetype": "text/x-python",
   "name": "python",
   "nbconvert_exporter": "python",
   "pygments_lexer": "ipython3",
   "version": "3.8.5"
  }
 },
 "nbformat": 4,
 "nbformat_minor": 4
}
