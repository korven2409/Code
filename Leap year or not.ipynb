{
 "cells": [
  {
   "cell_type": "code",
   "execution_count": 6,
   "metadata": {},
   "outputs": [
    {
     "name": "stdout",
     "output_type": "stream",
     "text": [
      "enter a year to check its leap or not: 2016\n",
      "2016 is a leap year\n"
     ]
    }
   ],
   "source": [
    "#leap year or not\n",
    "year=int(input(\"enter a year to check its leap or not: \"))\n",
    "if year%4==0:\n",
    "    if year%100==0:\n",
    "        if year%400==0:\n",
    "            print(f\"{year} is a leap year!\")\n",
    "        else:\n",
    "            print(f\"{year} is not a leap year\")\n",
    "    else:\n",
    "        print(f\"{year} is a leap year\")\n",
    "else:\n",
    "    print(f\"{year} is not a leap year\")"
   ]
  }
 ],
 "metadata": {
  "kernelspec": {
   "display_name": "Python 3",
   "language": "python",
   "name": "python3"
  },
  "language_info": {
   "codemirror_mode": {
    "name": "ipython",
    "version": 3
   },
   "file_extension": ".py",
   "mimetype": "text/x-python",
   "name": "python",
   "nbconvert_exporter": "python",
   "pygments_lexer": "ipython3",
   "version": "3.8.5"
  }
 },
 "nbformat": 4,
 "nbformat_minor": 4
}
