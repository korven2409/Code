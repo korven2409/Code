{
 "cells": [
  {
   "cell_type": "code",
   "execution_count": 10,
   "metadata": {},
   "outputs": [
    {
     "name": "stdout",
     "output_type": "stream",
     "text": [
      "enter a decimal number:75\n",
      "1001011"
     ]
    }
   ],
   "source": [
    "count=0\n",
    "l1=[]\n",
    "decimal=int(input(\"enter a decimal number:\"))\n",
    "temp=decimal\n",
    "while temp!=0:\n",
    "    temp=int(temp/2)\n",
    "    #print(temp)\n",
    "    count+=1\n",
    "#print(count)\n",
    "for i in range(0,count):\n",
    "    r=decimal%2\n",
    "    decimal=int(decimal/2)\n",
    "    l1.append(r)\n",
    "#print(l1)\n",
    "for i in range(-1,-(count+1),-1):\n",
    "    print(l1[i],end='')\n"
   ]
  }
 ],
 "metadata": {
  "kernelspec": {
   "display_name": "Python 3",
   "language": "python",
   "name": "python3"
  },
  "language_info": {
   "codemirror_mode": {
    "name": "ipython",
    "version": 3
   },
   "file_extension": ".py",
   "mimetype": "text/x-python",
   "name": "python",
   "nbconvert_exporter": "python",
   "pygments_lexer": "ipython3",
   "version": "3.8.5"
  }
 },
 "nbformat": 4,
 "nbformat_minor": 4
}
