{
 "cells": [
  {
   "cell_type": "code",
   "execution_count": 4,
   "metadata": {},
   "outputs": [
    {
     "name": "stdout",
     "output_type": "stream",
     "text": [
      "{'Numbers:': [1, 2, 3, 4, 5, 6, 7], 'Letters:': ['a', 'b', 'c', 'd'], 'Animals:': {'cat': {'color': 'black', 'age': 10}}}\n"
     ]
    }
   ],
   "source": [
    "dict1={\n",
    "    'Numbers:': [1,2,3,4,5,6,7],\n",
    "    'Letters:': ['a','b','c','d'],\n",
    "    'Animals:': {'cat':{'color':'black','age':10}}\n",
    "}\n",
    "print(dict1)"
   ]
  }
 ],
 "metadata": {
  "kernelspec": {
   "display_name": "Python 3",
   "language": "python",
   "name": "python3"
  },
  "language_info": {
   "codemirror_mode": {
    "name": "ipython",
    "version": 3
   },
   "file_extension": ".py",
   "mimetype": "text/x-python",
   "name": "python",
   "nbconvert_exporter": "python",
   "pygments_lexer": "ipython3",
   "version": "3.8.5"
  }
 },
 "nbformat": 4,
 "nbformat_minor": 4
}
