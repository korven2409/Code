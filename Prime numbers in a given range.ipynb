{
 "cells": [
  {
   "cell_type": "code",
   "execution_count": 9,
   "metadata": {},
   "outputs": [
    {
     "name": "stdout",
     "output_type": "stream",
     "text": [
      "enter a range 1 to :20\n",
      "2\n",
      "3\n",
      "5\n",
      "7\n",
      "11\n",
      "13\n",
      "17\n",
      "19\n"
     ]
    }
   ],
   "source": [
    "#all prime in a given range\n",
    "num1=int(input(\"enter a range 1 to :\"))\n",
    "count=0\n",
    "for num in range(2,num1):\n",
    "    for i in range(1,round(num/2)+1):\n",
    "        if num%i==0:\n",
    "            count+=1\n",
    "#     if count>1:\n",
    "#         print(f\"{num} is not a prime!\")\n",
    "    if count==1:\n",
    "        print(num)\n",
    "    count=0"
   ]
  }
 ],
 "metadata": {
  "kernelspec": {
   "display_name": "Python 3",
   "language": "python",
   "name": "python3"
  },
  "language_info": {
   "codemirror_mode": {
    "name": "ipython",
    "version": 3
   },
   "file_extension": ".py",
   "mimetype": "text/x-python",
   "name": "python",
   "nbconvert_exporter": "python",
   "pygments_lexer": "ipython3",
   "version": "3.8.5"
  }
 },
 "nbformat": 4,
 "nbformat_minor": 4
}
