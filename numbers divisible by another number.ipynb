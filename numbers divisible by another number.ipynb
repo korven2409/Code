{
 "cells": [
  {
   "cell_type": "code",
   "execution_count": 21,
   "metadata": {},
   "outputs": [
    {
     "name": "stdout",
     "output_type": "stream",
     "text": [
      "enter 1st number:3\n",
      "enter 2nd number:2\n",
      "3 is not divisible by 2\n"
     ]
    }
   ],
   "source": [
    "#number divisible by another or not\n",
    "n1=int(input(\"enter 1st number:\"))\n",
    "n2=int(input(\"enter 2nd number:\"))\n",
    "if n1%n2==0:\n",
    "    print(f\"{n1} is divisible by {n2}\")\n",
    "else:\n",
    "    print(f\"{n1} is not divisible by {n2}\")"
   ]
  },
  {
   "cell_type": "code",
   "execution_count": 22,
   "metadata": {},
   "outputs": [
    {
     "name": "stdout",
     "output_type": "stream",
     "text": [
      "enter no.of list elements:5\n",
      "enter elements:1\n",
      "enter elements:2\n",
      "enter elements:3\n",
      "enter elements:4\n",
      "enter elements:5\n",
      "enter element to check:2\n",
      "2 elements in the list are divisible by 2\n"
     ]
    }
   ],
   "source": [
    "#numbers in list divisible by x or not\n",
    "l1=[]\n",
    "count=0\n",
    "n=int(input(\"enter no.of list elements:\"))\n",
    "for i in range(n):\n",
    "    x=int(input(\"enter elements:\"))\n",
    "    l1.append(x)\n",
    "y=int(input(\"enter element to check:\"))\n",
    "for i in range(n):\n",
    "    if l1[i]%y==0:\n",
    "        count+=1\n",
    "if count>0:\n",
    "    print(f\"{count} elements in the list are divisible by {y}\")\n",
    "elif count==0:\n",
    "    print(f\"none of the elements in the list are divisible by {y}\")"
   ]
  }
 ],
 "metadata": {
  "kernelspec": {
   "display_name": "Python 3",
   "language": "python",
   "name": "python3"
  },
  "language_info": {
   "codemirror_mode": {
    "name": "ipython",
    "version": 3
   },
   "file_extension": ".py",
   "mimetype": "text/x-python",
   "name": "python",
   "nbconvert_exporter": "python",
   "pygments_lexer": "ipython3",
   "version": "3.8.5"
  }
 },
 "nbformat": 4,
 "nbformat_minor": 4
}
